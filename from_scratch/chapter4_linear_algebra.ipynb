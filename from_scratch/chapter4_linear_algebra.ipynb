{
 "cells": [
  {
   "cell_type": "code",
   "execution_count": 1,
   "metadata": {},
   "outputs": [],
   "source": [
    "from typing import List\n",
    "import numpy\n",
    "import numpy.random as random"
   ]
  },
  {
   "cell_type": "code",
   "execution_count": 2,
   "metadata": {},
   "outputs": [],
   "source": [
    "# because python doesn't have type Vector, we create our own, it translates to just a list of floats\n",
    "# we can perform addition, multiplication or whatever else on vectors, but they happen componentwise, i.e. to the whole\n",
    "# [1,2] + [2, 1] = [3, 3]\n",
    "# whatever you do, they have to be the same length\n",
    "Vector = List[float]\n",
    "\n",
    "# such as height_weight_age = [70, 170, 40]\n",
    "#         grades = [95, 80,75,62]"
   ]
  },
  {
   "cell_type": "code",
   "execution_count": 3,
   "metadata": {},
   "outputs": [],
   "source": [
    "# adding two vectors together\n",
    "\n",
    "def add(v: Vector, w: Vector) -> Vector:\n",
    "    \"\"\"Adds corresponding elements\"\"\"\n",
    "    assert len(v) == len(w), 'Vectors must be of same length'\n",
    "    return [v_i + w_i for v_i, w_i in zip(v, w)]"
   ]
  },
  {
   "cell_type": "code",
   "execution_count": 4,
   "metadata": {},
   "outputs": [],
   "source": [
    "# create random arrays/vectors with whatever size and shape/parameters\n",
    "size = 10\n",
    "vector1 = random.randint(0, 10, size=(size))\n",
    "vector2 = random.randint(0, 10, size=(size))\n",
    "vector3 = random.randint(0, 10, size=(size))"
   ]
  },
  {
   "cell_type": "code",
   "execution_count": 5,
   "metadata": {},
   "outputs": [
    {
     "data": {
      "text/plain": [
       "array([7, 7, 6, 4, 9, 0, 4, 5, 5, 8])"
      ]
     },
     "execution_count": 5,
     "metadata": {},
     "output_type": "execute_result"
    }
   ],
   "source": [
    "vector1"
   ]
  },
  {
   "cell_type": "code",
   "execution_count": 6,
   "metadata": {},
   "outputs": [
    {
     "data": {
      "text/plain": [
       "array([9, 6, 0, 3, 9, 2, 7, 6, 5, 8])"
      ]
     },
     "execution_count": 6,
     "metadata": {},
     "output_type": "execute_result"
    }
   ],
   "source": [
    "vector2"
   ]
  },
  {
   "cell_type": "code",
   "execution_count": 7,
   "metadata": {},
   "outputs": [
    {
     "data": {
      "text/plain": [
       "array([4, 3, 5, 1, 7, 1, 7, 3, 6, 5])"
      ]
     },
     "execution_count": 7,
     "metadata": {},
     "output_type": "execute_result"
    }
   ],
   "source": [
    "vector3"
   ]
  },
  {
   "cell_type": "code",
   "execution_count": 8,
   "metadata": {},
   "outputs": [
    {
     "data": {
      "text/plain": [
       "[16, 13, 6, 7, 18, 2, 11, 11, 10, 16]"
      ]
     },
     "execution_count": 8,
     "metadata": {},
     "output_type": "execute_result"
    }
   ],
   "source": [
    "add(vector1, vector2)"
   ]
  },
  {
   "cell_type": "code",
   "execution_count": 9,
   "metadata": {},
   "outputs": [],
   "source": [
    "def subtract(v: Vector, w: Vector) -> Vector:\n",
    "    \"\"\"Subtracts corresponding elements\"\"\"\n",
    "    assert len(v) == len(w), 'Vectors must be of same length'\n",
    "    return[v_i - w_i for v_i, w_i in zip(v, w)]"
   ]
  },
  {
   "cell_type": "code",
   "execution_count": 10,
   "metadata": {},
   "outputs": [
    {
     "data": {
      "text/plain": [
       "[-2, 1, 6, 1, 0, -2, -3, -1, 0, 0]"
      ]
     },
     "execution_count": 10,
     "metadata": {},
     "output_type": "execute_result"
    }
   ],
   "source": [
    "subtract(vector1, vector2)"
   ]
  },
  {
   "cell_type": "code",
   "execution_count": 11,
   "metadata": {},
   "outputs": [],
   "source": [
    "def vector_sum(vectors: List[Vector]) -> Vector:\n",
    "    \"\"\"Sums all corresponding elements\"\"\"\n",
    "    #Check that vectors is not empty\n",
    "    assert vectors, \"No vectors provided!\"\n",
    "    \n",
    "    #Check that the vectors are all the same size\n",
    "    num_elements = len(vectors[0])\n",
    "    assert all(len(v) == num_elements for v in vectors), \"Different Sizes\"\n",
    "    \n",
    "    #The i-th element of the result is the sum of every vector[i]\n",
    "    return [sum(vector[i] for vector in vectors)\n",
    "            for i in range(num_elements)]\n",
    "assert vector_sum([[1,2],[3,4],[5,6], [7,8]]) == [16,20]"
   ]
  },
  {
   "cell_type": "code",
   "execution_count": 12,
   "metadata": {},
   "outputs": [
    {
     "data": {
      "text/plain": [
       "[16, 13, 6, 7, 18, 2, 11, 11, 10, 16]"
      ]
     },
     "execution_count": 12,
     "metadata": {},
     "output_type": "execute_result"
    }
   ],
   "source": [
    "vector_sum([vector1, vector2])"
   ]
  },
  {
   "cell_type": "code",
   "execution_count": 13,
   "metadata": {},
   "outputs": [],
   "source": [
    "def vector_multiply(c: float, v:Vector) -> Vector:\n",
    "    \"\"\"Multiplies every element in a vector by c i.e user input\"\"\"\n",
    "    return [c * v_i for v_i in v]"
   ]
  },
  {
   "cell_type": "code",
   "execution_count": 14,
   "metadata": {},
   "outputs": [
    {
     "name": "stdout",
     "output_type": "stream",
     "text": [
      "[7 7 6 4 9 0 4 5 5 8]\n",
      "[9 6 0 3 9 2 7 6 5 8]\n",
      "[4 3 5 1 7 1 7 3 6 5]\n",
      "[14, 14, 12, 8, 18, 0, 8, 10, 10, 16]\n"
     ]
    }
   ],
   "source": [
    "c = 2\n",
    "vector = vector1\n",
    "\n",
    "print(vector1)\n",
    "print(vector2)\n",
    "print(vector3)\n",
    "print(vector_multiply(c, vector))"
   ]
  },
  {
   "cell_type": "code",
   "execution_count": 15,
   "metadata": {},
   "outputs": [],
   "source": [
    "def vector_mean(*vectors: List[Vector]) -> Vector:\n",
    "    \"\"\" Computes the element-wise average\"\"\"\n",
    "    \n",
    "    # number of vectors to average by\n",
    "    n = len(*vectors)\n",
    "    return vector_multiply(1/n, vector_sum(*vectors))"
   ]
  },
  {
   "cell_type": "code",
   "execution_count": 16,
   "metadata": {},
   "outputs": [
    {
     "data": {
      "text/plain": [
       "[6.666666666666666,\n",
       " 5.333333333333333,\n",
       " 3.6666666666666665,\n",
       " 2.6666666666666665,\n",
       " 8.333333333333332,\n",
       " 1.0,\n",
       " 6.0,\n",
       " 4.666666666666666,\n",
       " 5.333333333333333,\n",
       " 7.0]"
      ]
     },
     "execution_count": 16,
     "metadata": {},
     "output_type": "execute_result"
    }
   ],
   "source": [
    "#however many vectors you give it, it will do the element-wise average of all of them.\n",
    "vector_mean([vector1, vector2, vector3])"
   ]
  },
  {
   "cell_type": "code",
   "execution_count": null,
   "metadata": {},
   "outputs": [],
   "source": [
    "# dot product dot() is the sum of their componentwise products\n",
    "# first multiply the vectors elementwise, then add each element together\n",
    "# i.e. [1,2,3], [4,5,6] == 32 because 1*4 + 2*5 + 3*6 == 32\n"
   ]
  }
 ],
 "metadata": {
  "kernelspec": {
   "display_name": "Python 3",
   "language": "python",
   "name": "python3"
  },
  "language_info": {
   "codemirror_mode": {
    "name": "ipython",
    "version": 3
   },
   "file_extension": ".py",
   "mimetype": "text/x-python",
   "name": "python",
   "nbconvert_exporter": "python",
   "pygments_lexer": "ipython3",
   "version": "3.8.5"
  }
 },
 "nbformat": 4,
 "nbformat_minor": 4
}
