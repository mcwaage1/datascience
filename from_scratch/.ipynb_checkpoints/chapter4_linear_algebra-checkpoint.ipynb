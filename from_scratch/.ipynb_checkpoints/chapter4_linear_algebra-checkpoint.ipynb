{
 "cells": [
  {
   "cell_type": "code",
   "execution_count": 73,
   "metadata": {},
   "outputs": [],
   "source": [
    "from typing import List\n",
    "import numpy as np\n",
    "import numpy.random as random"
   ]
  },
  {
   "cell_type": "code",
   "execution_count": 2,
   "metadata": {},
   "outputs": [],
   "source": [
    "# because python doesn't have type Vector, we create our own, it translates to just a list of floats\n",
    "# we can perform addition, multiplication or whatever else on vectors, but they happen componentwise, i.e. to the whole\n",
    "# [1,2] + [2, 1] = [3, 3]\n",
    "# whatever you do, they have to be the same length\n",
    "Vector = List[float]\n",
    "\n",
    "# such as height_weight_age = [70, 170, 40]\n",
    "#         grades = [95, 80,75,62]"
   ]
  },
  {
   "cell_type": "code",
   "execution_count": 3,
   "metadata": {},
   "outputs": [],
   "source": [
    "# adding two vectors together\n",
    "\n",
    "def add(v: Vector, w: Vector) -> Vector:\n",
    "    \"\"\"Adds corresponding elements\"\"\"\n",
    "    assert len(v) == len(w), 'Vectors must be of same length'\n",
    "    return [v_i + w_i for v_i, w_i in zip(v, w)]"
   ]
  },
  {
   "cell_type": "code",
   "execution_count": 4,
   "metadata": {},
   "outputs": [],
   "source": [
    "# create random arrays/vectors with whatever size and shape/parameters\n",
    "size = 10\n",
    "vector1 = random.randint(0, 10, size=(size))\n",
    "vector2 = random.randint(0, 10, size=(size))\n",
    "vector3 = random.randint(0, 10, size=(size))"
   ]
  },
  {
   "cell_type": "code",
   "execution_count": 5,
   "metadata": {},
   "outputs": [
    {
     "data": {
      "text/plain": [
       "array([6, 3, 7, 5, 5, 0, 4, 2, 7, 5])"
      ]
     },
     "execution_count": 5,
     "metadata": {},
     "output_type": "execute_result"
    }
   ],
   "source": [
    "vector1"
   ]
  },
  {
   "cell_type": "code",
   "execution_count": 6,
   "metadata": {},
   "outputs": [
    {
     "data": {
      "text/plain": [
       "array([5, 6, 2, 9, 9, 1, 4, 4, 3, 1])"
      ]
     },
     "execution_count": 6,
     "metadata": {},
     "output_type": "execute_result"
    }
   ],
   "source": [
    "vector2"
   ]
  },
  {
   "cell_type": "code",
   "execution_count": 7,
   "metadata": {},
   "outputs": [
    {
     "data": {
      "text/plain": [
       "array([9, 6, 2, 7, 8, 9, 7, 3, 6, 3])"
      ]
     },
     "execution_count": 7,
     "metadata": {},
     "output_type": "execute_result"
    }
   ],
   "source": [
    "vector3"
   ]
  },
  {
   "cell_type": "code",
   "execution_count": 8,
   "metadata": {},
   "outputs": [
    {
     "data": {
      "text/plain": [
       "[11, 9, 9, 14, 14, 1, 8, 6, 10, 6]"
      ]
     },
     "execution_count": 8,
     "metadata": {},
     "output_type": "execute_result"
    }
   ],
   "source": [
    "add(vector1, vector2)"
   ]
  },
  {
   "cell_type": "code",
   "execution_count": 9,
   "metadata": {},
   "outputs": [],
   "source": [
    "def subtract(v: Vector, w: Vector) -> Vector:\n",
    "    \"\"\"Subtracts corresponding elements\"\"\"\n",
    "    assert len(v) == len(w), 'Vectors must be of same length'\n",
    "    return[v_i - w_i for v_i, w_i in zip(v, w)]"
   ]
  },
  {
   "cell_type": "code",
   "execution_count": 10,
   "metadata": {},
   "outputs": [
    {
     "data": {
      "text/plain": [
       "[1, -3, 5, -4, -4, -1, 0, -2, 4, 4]"
      ]
     },
     "execution_count": 10,
     "metadata": {},
     "output_type": "execute_result"
    }
   ],
   "source": [
    "subtract(vector1, vector2)"
   ]
  },
  {
   "cell_type": "code",
   "execution_count": 11,
   "metadata": {},
   "outputs": [],
   "source": [
    "def vector_sum(vectors: List[Vector]) -> Vector:\n",
    "    \"\"\"Sums all corresponding elements\"\"\"\n",
    "    #Check that vectors is not empty\n",
    "    assert vectors, \"No vectors provided!\"\n",
    "    \n",
    "    #Check that the vectors are all the same size\n",
    "    num_elements = len(vectors[0])\n",
    "    assert all(len(v) == num_elements for v in vectors), \"Different Sizes\"\n",
    "    \n",
    "    #The i-th element of the result is the sum of every vector[i]\n",
    "    return [sum(vector[i] for vector in vectors)\n",
    "            for i in range(num_elements)]\n",
    "assert vector_sum([[1,2],[3,4],[5,6], [7,8]]) == [16,20]"
   ]
  },
  {
   "cell_type": "code",
   "execution_count": 12,
   "metadata": {},
   "outputs": [
    {
     "data": {
      "text/plain": [
       "[11, 9, 9, 14, 14, 1, 8, 6, 10, 6]"
      ]
     },
     "execution_count": 12,
     "metadata": {},
     "output_type": "execute_result"
    }
   ],
   "source": [
    "vector_sum([vector1, vector2])"
   ]
  },
  {
   "cell_type": "code",
   "execution_count": 13,
   "metadata": {},
   "outputs": [],
   "source": [
    "def vector_multiply(c: float, v:Vector) -> Vector:\n",
    "    \"\"\"Multiplies every element in a vector by c i.e user input\"\"\"\n",
    "    return [c * v_i for v_i in v]"
   ]
  },
  {
   "cell_type": "code",
   "execution_count": 14,
   "metadata": {},
   "outputs": [
    {
     "name": "stdout",
     "output_type": "stream",
     "text": [
      "[6 3 7 5 5 0 4 2 7 5]\n",
      "[5 6 2 9 9 1 4 4 3 1]\n",
      "[9 6 2 7 8 9 7 3 6 3]\n",
      "[12, 6, 14, 10, 10, 0, 8, 4, 14, 10]\n"
     ]
    }
   ],
   "source": [
    "c = 2\n",
    "vector = vector1\n",
    "\n",
    "print(vector1)\n",
    "print(vector2)\n",
    "print(vector3)\n",
    "print(vector_multiply(c, vector))"
   ]
  },
  {
   "cell_type": "code",
   "execution_count": 15,
   "metadata": {},
   "outputs": [],
   "source": [
    "def vector_mean(*vectors: List[Vector]) -> Vector:\n",
    "    \"\"\" Computes the element-wise average\"\"\"\n",
    "    \n",
    "    # number of vectors to average by\n",
    "    n = len(*vectors)\n",
    "    return vector_multiply(1/n, vector_sum(*vectors))"
   ]
  },
  {
   "cell_type": "code",
   "execution_count": 16,
   "metadata": {},
   "outputs": [
    {
     "data": {
      "text/plain": [
       "[6.666666666666666,\n",
       " 5.0,\n",
       " 3.6666666666666665,\n",
       " 7.0,\n",
       " 7.333333333333333,\n",
       " 3.333333333333333,\n",
       " 5.0,\n",
       " 3.0,\n",
       " 5.333333333333333,\n",
       " 3.0]"
      ]
     },
     "execution_count": 16,
     "metadata": {},
     "output_type": "execute_result"
    }
   ],
   "source": [
    "#however many vectors you give it, it will do the element-wise average of all of them.\n",
    "vector_mean([vector1, vector2, vector3])"
   ]
  },
  {
   "cell_type": "code",
   "execution_count": 22,
   "metadata": {},
   "outputs": [],
   "source": [
    "# dot product dot() is the sum of their componentwise products\n",
    "# first multiply the vectors elementwise, then add each element together\n",
    "# i.e. [1,2,3], [4,5,6] == 32 because 1*4 + 2*5 + 3*6 == 32\n",
    "\n",
    "def dot(v: Vector, w: Vector) -> Vector:\n",
    "    return sum(v_i* w_i for v_i, w_i in zip(v, w))\n",
    "assert dot([1,2,3], [4,5,6]) == 32  # or 1*4 + 2*5 + 3*6"
   ]
  },
  {
   "cell_type": "code",
   "execution_count": 23,
   "metadata": {},
   "outputs": [
    {
     "data": {
      "text/plain": [
       "202"
      ]
     },
     "execution_count": 23,
     "metadata": {},
     "output_type": "execute_result"
    }
   ],
   "source": [
    "dot(vector1, vector2)"
   ]
  },
  {
   "cell_type": "code",
   "execution_count": 25,
   "metadata": {},
   "outputs": [
    {
     "data": {
      "text/plain": [
       "238"
      ]
     },
     "execution_count": 25,
     "metadata": {},
     "output_type": "execute_result"
    }
   ],
   "source": [
    "def sum_of_squares(v: Vector) -> float:\n",
    "    \"\"\"returns the sum of the squares of each element in a vector\"\"\"\n",
    "    return dot(v,v)\n",
    "assert sum_of_squares([1,2,3]) == 14 # or 1*1 + 2*2 + 3*3\n",
    "\n",
    "sum_of_squares(vector1)"
   ]
  },
  {
   "cell_type": "code",
   "execution_count": 39,
   "metadata": {},
   "outputs": [
    {
     "data": {
      "text/plain": [
       "15.427248620541512"
      ]
     },
     "execution_count": 39,
     "metadata": {},
     "output_type": "execute_result"
    }
   ],
   "source": [
    "# we can compute magnitude (or length) with this\n",
    "import math\n",
    "\n",
    "def magnitude(v: Vector) -> float:\n",
    "    return math.sqrt(sum_of_squares(v))\n",
    "assert magnitude([3,4]) == 5\n",
    "assert magnitude([4,4,4,4]) == 8\n",
    "magnitude(vector1)"
   ]
  },
  {
   "cell_type": "code",
   "execution_count": 41,
   "metadata": {},
   "outputs": [
    {
     "data": {
      "text/plain": [
       "104"
      ]
     },
     "execution_count": 41,
     "metadata": {},
     "output_type": "execute_result"
    }
   ],
   "source": [
    "# how to compute the distance between two or more vectors\n",
    "# square root((v_1 - w_1)^2 + (v_2 - w_2)^2 + etc)\n",
    "\n",
    "def squared_distance(v: Vector, w: Vector) -> float:\n",
    "    \"\"\"Computes (v_1 - w_1) ** 2 + (v_2 - w_2) ** 2 + etc\"\"\"\n",
    "    return sum_of_squares(subtract(v, w))\n",
    "assert squared_distance([3,4,5], [2,3,4]) == 3\n",
    "squared_distance(vector1, vector2)"
   ]
  },
  {
   "cell_type": "code",
   "execution_count": 42,
   "metadata": {},
   "outputs": [
    {
     "data": {
      "text/plain": [
       "10.198039027185569"
      ]
     },
     "execution_count": 42,
     "metadata": {},
     "output_type": "execute_result"
    }
   ],
   "source": [
    "def distance(v: Vector, w: Vector) -> Vector:\n",
    "    return math.sqrt(squared_distance(v,w))\n",
    "distance(vector1, vector2)"
   ]
  },
  {
   "cell_type": "markdown",
   "metadata": {},
   "source": [
    "**Matrices**"
   ]
  },
  {
   "cell_type": "code",
   "execution_count": 43,
   "metadata": {},
   "outputs": [],
   "source": [
    "Matrix = List[List[float]]"
   ]
  },
  {
   "cell_type": "code",
   "execution_count": 44,
   "metadata": {},
   "outputs": [],
   "source": [
    "A = [[1,2,3], #2 rows, 3 columns\n",
    "     [4,5,6]]\n",
    "B = [[1,2],   #3 rows, 2 columns\n",
    "     [3,4], \n",
    "     [5,6]]"
   ]
  },
  {
   "cell_type": "code",
   "execution_count": 45,
   "metadata": {},
   "outputs": [],
   "source": [
    "from typing import Tuple\n",
    "def shape(A: Matrix) -> Tuple[int, int]:\n",
    "    \"\"\"Returns (# rows A, # columns A)\"\"\"\n",
    "    num_rows = len(A)\n",
    "    num_columns = len(A[0]) if A else 0\n",
    "    return num_rows, num_columns\n",
    "    "
   ]
  },
  {
   "cell_type": "code",
   "execution_count": 48,
   "metadata": {},
   "outputs": [
    {
     "data": {
      "text/plain": [
       "(3, 2)"
      ]
     },
     "execution_count": 48,
     "metadata": {},
     "output_type": "execute_result"
    }
   ],
   "source": [
    "shape(B)"
   ]
  },
  {
   "cell_type": "code",
   "execution_count": 50,
   "metadata": {},
   "outputs": [],
   "source": [
    "# for n rows and k columns we can get \n",
    "# the vector of each row length k  and\n",
    "# the vector of each column length n\n",
    "\n",
    "def get_row(A, i):\n",
    "    return A[i]\n",
    "def get_column(A, j):\n",
    "    return [A_i[j]\n",
    "            for A_i in A]"
   ]
  },
  {
   "cell_type": "code",
   "execution_count": 52,
   "metadata": {},
   "outputs": [
    {
     "data": {
      "text/plain": [
       "[3, 4]"
      ]
     },
     "execution_count": 52,
     "metadata": {},
     "output_type": "execute_result"
    }
   ],
   "source": [
    "get_row(A, 1)"
   ]
  },
  {
   "cell_type": "code",
   "execution_count": 55,
   "metadata": {},
   "outputs": [
    {
     "data": {
      "text/plain": [
       "[2, 4, 6]"
      ]
     },
     "execution_count": 55,
     "metadata": {},
     "output_type": "execute_result"
    }
   ],
   "source": [
    "get_column(B, 1)"
   ]
  },
  {
   "cell_type": "code",
   "execution_count": 56,
   "metadata": {},
   "outputs": [],
   "source": [
    "def make_matrix(num_rows, num_columns, entry):\n",
    "    \"\"\"Creates a matrix of entered number of rows * number of columns with the inputted sequence you specify\"\"\"\n",
    "    return [[entry(i,j)\n",
    "            for j in range(num_columns)]\n",
    "           for i in range(num_rows)]"
   ]
  },
  {
   "cell_type": "code",
   "execution_count": 80,
   "metadata": {},
   "outputs": [
    {
     "data": {
      "text/plain": [
       "[[1, 0, 1, 1, 1, 1, 1, 1, 0, 1],\n",
       " [0, 1, 0, 0, 0, 1, 0, 1, 1, 1],\n",
       " [1, 1, 1, 1, 0, 0, 0, 0, 1, 0],\n",
       " [1, 1, 1, 1, 1, 0, 1, 1, 0, 0],\n",
       " [0, 1, 0, 1, 1, 0, 0, 0, 0, 1],\n",
       " [0, 1, 0, 1, 0, 0, 1, 1, 0, 1],\n",
       " [0, 1, 0, 0, 1, 1, 1, 1, 1, 1],\n",
       " [0, 1, 1, 1, 0, 1, 0, 1, 0, 0],\n",
       " [1, 0, 1, 0, 0, 1, 0, 0, 0, 0],\n",
       " [1, 1, 0, 1, 0, 0, 1, 0, 1, 0]]"
      ]
     },
     "execution_count": 80,
     "metadata": {},
     "output_type": "execute_result"
    }
   ],
   "source": [
    "make_matrix(10, 10, lambda i, j: random.randint(0, 2))"
   ]
  },
  {
   "cell_type": "code",
   "execution_count": 135,
   "metadata": {},
   "outputs": [
    {
     "data": {
      "text/plain": [
       "array([[1, 0, 1, 1, 0, 0, 1, 0, 0, 1],\n",
       "       [0, 1, 1, 1, 0, 0, 1, 1, 0, 0],\n",
       "       [0, 1, 1, 1, 0, 0, 0, 0, 1, 0],\n",
       "       [1, 1, 0, 0, 0, 1, 1, 1, 1, 0],\n",
       "       [1, 1, 0, 1, 0, 1, 1, 1, 0, 0],\n",
       "       [0, 0, 1, 1, 0, 1, 1, 0, 1, 0],\n",
       "       [0, 0, 1, 1, 0, 1, 0, 1, 0, 1],\n",
       "       [1, 1, 0, 1, 1, 1, 0, 1, 0, 1],\n",
       "       [1, 0, 1, 1, 0, 0, 1, 0, 1, 0],\n",
       "       [1, 1, 0, 1, 1, 1, 1, 0, 1, 1]])"
      ]
     },
     "execution_count": 135,
     "metadata": {},
     "output_type": "execute_result"
    }
   ],
   "source": [
    "# or use this\n",
    "random.randint(0, 2, size=(10, 10))"
   ]
  },
  {
   "cell_type": "code",
   "execution_count": 150,
   "metadata": {},
   "outputs": [
    {
     "data": {
      "text/plain": [
       "array([[72],\n",
       "       [85],\n",
       "       [53],\n",
       "       [81],\n",
       "       [99],\n",
       "       [86],\n",
       "       [92],\n",
       "       [19],\n",
       "       [62],\n",
       "       [73],\n",
       "       [86],\n",
       "       [39],\n",
       "       [95],\n",
       "       [59],\n",
       "       [28],\n",
       "       [82],\n",
       "       [83],\n",
       "       [88],\n",
       "       [42],\n",
       "       [43],\n",
       "       [75],\n",
       "       [23],\n",
       "       [30],\n",
       "       [18],\n",
       "       [45],\n",
       "       [47],\n",
       "       [95],\n",
       "       [31],\n",
       "       [24],\n",
       "       [22],\n",
       "       [46],\n",
       "       [50],\n",
       "       [49],\n",
       "       [60],\n",
       "       [51],\n",
       "       [47],\n",
       "       [47],\n",
       "       [52],\n",
       "       [91],\n",
       "       [24],\n",
       "       [85],\n",
       "       [80],\n",
       "       [22],\n",
       "       [71],\n",
       "       [58],\n",
       "       [55],\n",
       "       [55],\n",
       "       [31],\n",
       "       [52],\n",
       "       [46],\n",
       "       [41],\n",
       "       [86],\n",
       "       [52],\n",
       "       [21],\n",
       "       [18],\n",
       "       [90],\n",
       "       [47],\n",
       "       [47],\n",
       "       [22],\n",
       "       [77],\n",
       "       [95],\n",
       "       [66],\n",
       "       [20],\n",
       "       [71],\n",
       "       [23],\n",
       "       [63],\n",
       "       [40],\n",
       "       [40],\n",
       "       [85],\n",
       "       [98],\n",
       "       [23],\n",
       "       [53],\n",
       "       [38],\n",
       "       [19],\n",
       "       [70],\n",
       "       [20],\n",
       "       [53],\n",
       "       [85],\n",
       "       [60],\n",
       "       [54],\n",
       "       [56],\n",
       "       [29],\n",
       "       [30],\n",
       "       [92],\n",
       "       [90],\n",
       "       [65],\n",
       "       [88],\n",
       "       [83],\n",
       "       [38],\n",
       "       [33],\n",
       "       [34],\n",
       "       [83],\n",
       "       [84],\n",
       "       [73],\n",
       "       [70],\n",
       "       [33],\n",
       "       [34],\n",
       "       [44],\n",
       "       [96],\n",
       "       [64]])"
      ]
     },
     "execution_count": 150,
     "metadata": {},
     "output_type": "execute_result"
    }
   ],
   "source": [
    "ages = random.randint(18, 100, size=(100, 1))\n",
    "ages"
   ]
  },
  {
   "cell_type": "code",
   "execution_count": 151,
   "metadata": {},
   "outputs": [
    {
     "data": {
      "text/plain": [
       "array([[ 72, 102],\n",
       "       [ 85, 108],\n",
       "       [ 53, 101],\n",
       "       [ 81, 123],\n",
       "       [ 99, 160],\n",
       "       [ 86, 133],\n",
       "       [ 92, 139],\n",
       "       [ 19, 158],\n",
       "       [ 62, 124],\n",
       "       [ 73, 139],\n",
       "       [ 86, 154],\n",
       "       [ 39, 126],\n",
       "       [ 95, 161],\n",
       "       [ 59, 103],\n",
       "       [ 28, 171],\n",
       "       [ 82, 121],\n",
       "       [ 83, 169],\n",
       "       [ 88, 163],\n",
       "       [ 42, 192],\n",
       "       [ 43, 196],\n",
       "       [ 75, 152],\n",
       "       [ 23, 133],\n",
       "       [ 30, 171],\n",
       "       [ 18, 114],\n",
       "       [ 45, 124],\n",
       "       [ 47, 115],\n",
       "       [ 95, 131],\n",
       "       [ 31, 125],\n",
       "       [ 24, 117],\n",
       "       [ 22, 188],\n",
       "       [ 46, 147],\n",
       "       [ 50, 157],\n",
       "       [ 49, 193],\n",
       "       [ 60, 124],\n",
       "       [ 51, 140],\n",
       "       [ 47, 124],\n",
       "       [ 47, 107],\n",
       "       [ 52, 111],\n",
       "       [ 91, 154],\n",
       "       [ 24, 145],\n",
       "       [ 85, 103],\n",
       "       [ 80, 141],\n",
       "       [ 22, 143],\n",
       "       [ 71, 192],\n",
       "       [ 58, 158],\n",
       "       [ 55, 192],\n",
       "       [ 55, 114],\n",
       "       [ 31, 183],\n",
       "       [ 52, 116],\n",
       "       [ 46, 129],\n",
       "       [ 41, 178],\n",
       "       [ 86, 164],\n",
       "       [ 52, 104],\n",
       "       [ 21, 133],\n",
       "       [ 18, 114],\n",
       "       [ 90, 194],\n",
       "       [ 47, 125],\n",
       "       [ 47, 185],\n",
       "       [ 22, 174],\n",
       "       [ 77, 172],\n",
       "       [ 95, 117],\n",
       "       [ 66, 128],\n",
       "       [ 20, 165],\n",
       "       [ 71, 161],\n",
       "       [ 23, 186],\n",
       "       [ 63, 146],\n",
       "       [ 40, 189],\n",
       "       [ 40, 138],\n",
       "       [ 85, 185],\n",
       "       [ 98, 199],\n",
       "       [ 23, 195],\n",
       "       [ 53, 146],\n",
       "       [ 38, 136],\n",
       "       [ 19, 125],\n",
       "       [ 70, 164],\n",
       "       [ 20, 153],\n",
       "       [ 53, 148],\n",
       "       [ 85, 108],\n",
       "       [ 60, 158],\n",
       "       [ 54, 130],\n",
       "       [ 56, 152],\n",
       "       [ 29, 106],\n",
       "       [ 30, 165],\n",
       "       [ 92, 111],\n",
       "       [ 90, 136],\n",
       "       [ 65, 189],\n",
       "       [ 88, 190],\n",
       "       [ 83, 130],\n",
       "       [ 38, 126],\n",
       "       [ 33, 125],\n",
       "       [ 34, 174],\n",
       "       [ 83, 197],\n",
       "       [ 84, 178],\n",
       "       [ 73, 180],\n",
       "       [ 70, 197],\n",
       "       [ 33, 197],\n",
       "       [ 34, 122],\n",
       "       [ 44, 181],\n",
       "       [ 96, 186],\n",
       "       [ 64, 120]])"
      ]
     },
     "execution_count": 151,
     "metadata": {},
     "output_type": "execute_result"
    }
   ],
   "source": [
    "weights = random.randint(100, 200, size=(100, 1))\n",
    "ages = np.append(ages, weights, axis =1)\n",
    "# https://numpy.org/devdocs/reference/generated/numpy.append.html\n",
    "ages"
   ]
  },
  {
   "cell_type": "code",
   "execution_count": 152,
   "metadata": {},
   "outputs": [
    {
     "data": {
      "text/plain": [
       "array([[ 72, 102,  69],\n",
       "       [ 85, 108,  72],\n",
       "       [ 53, 101,  69],\n",
       "       [ 81, 123,  72],\n",
       "       [ 99, 160,  79],\n",
       "       [ 86, 133,  74],\n",
       "       [ 92, 139,  72],\n",
       "       [ 19, 158,  79],\n",
       "       [ 62, 124,  67],\n",
       "       [ 73, 139,  76],\n",
       "       [ 86, 154,  62],\n",
       "       [ 39, 126,  58],\n",
       "       [ 95, 161,  56],\n",
       "       [ 59, 103,  73],\n",
       "       [ 28, 171,  60],\n",
       "       [ 82, 121,  73],\n",
       "       [ 83, 169,  75],\n",
       "       [ 88, 163,  79],\n",
       "       [ 42, 192,  71],\n",
       "       [ 43, 196,  59],\n",
       "       [ 75, 152,  62],\n",
       "       [ 23, 133,  57],\n",
       "       [ 30, 171,  76],\n",
       "       [ 18, 114,  61],\n",
       "       [ 45, 124,  67],\n",
       "       [ 47, 115,  72],\n",
       "       [ 95, 131,  55],\n",
       "       [ 31, 125,  78],\n",
       "       [ 24, 117,  77],\n",
       "       [ 22, 188,  65],\n",
       "       [ 46, 147,  59],\n",
       "       [ 50, 157,  67],\n",
       "       [ 49, 193,  55],\n",
       "       [ 60, 124,  57],\n",
       "       [ 51, 140,  68],\n",
       "       [ 47, 124,  59],\n",
       "       [ 47, 107,  72],\n",
       "       [ 52, 111,  69],\n",
       "       [ 91, 154,  65],\n",
       "       [ 24, 145,  60],\n",
       "       [ 85, 103,  75],\n",
       "       [ 80, 141,  77],\n",
       "       [ 22, 143,  73],\n",
       "       [ 71, 192,  60],\n",
       "       [ 58, 158,  72],\n",
       "       [ 55, 192,  63],\n",
       "       [ 55, 114,  72],\n",
       "       [ 31, 183,  67],\n",
       "       [ 52, 116,  68],\n",
       "       [ 46, 129,  58],\n",
       "       [ 41, 178,  79],\n",
       "       [ 86, 164,  77],\n",
       "       [ 52, 104,  55],\n",
       "       [ 21, 133,  58],\n",
       "       [ 18, 114,  64],\n",
       "       [ 90, 194,  76],\n",
       "       [ 47, 125,  75],\n",
       "       [ 47, 185,  73],\n",
       "       [ 22, 174,  76],\n",
       "       [ 77, 172,  74],\n",
       "       [ 95, 117,  65],\n",
       "       [ 66, 128,  63],\n",
       "       [ 20, 165,  78],\n",
       "       [ 71, 161,  63],\n",
       "       [ 23, 186,  56],\n",
       "       [ 63, 146,  75],\n",
       "       [ 40, 189,  60],\n",
       "       [ 40, 138,  75],\n",
       "       [ 85, 185,  71],\n",
       "       [ 98, 199,  64],\n",
       "       [ 23, 195,  60],\n",
       "       [ 53, 146,  78],\n",
       "       [ 38, 136,  59],\n",
       "       [ 19, 125,  74],\n",
       "       [ 70, 164,  75],\n",
       "       [ 20, 153,  68],\n",
       "       [ 53, 148,  60],\n",
       "       [ 85, 108,  58],\n",
       "       [ 60, 158,  64],\n",
       "       [ 54, 130,  70],\n",
       "       [ 56, 152,  59],\n",
       "       [ 29, 106,  78],\n",
       "       [ 30, 165,  74],\n",
       "       [ 92, 111,  78],\n",
       "       [ 90, 136,  60],\n",
       "       [ 65, 189,  77],\n",
       "       [ 88, 190,  58],\n",
       "       [ 83, 130,  76],\n",
       "       [ 38, 126,  57],\n",
       "       [ 33, 125,  55],\n",
       "       [ 34, 174,  73],\n",
       "       [ 83, 197,  58],\n",
       "       [ 84, 178,  64],\n",
       "       [ 73, 180,  60],\n",
       "       [ 70, 197,  69],\n",
       "       [ 33, 197,  60],\n",
       "       [ 34, 122,  74],\n",
       "       [ 44, 181,  79],\n",
       "       [ 96, 186,  70],\n",
       "       [ 64, 120,  69]])"
      ]
     },
     "execution_count": 152,
     "metadata": {},
     "output_type": "execute_result"
    }
   ],
   "source": [
    "heights = random.randint(55, 80, size=(100, 1))\n",
    "ages = np.append(ages, heights, axis =1)\n",
    "ages"
   ]
  },
  {
   "cell_type": "code",
   "execution_count": 169,
   "metadata": {},
   "outputs": [
    {
     "data": {
      "text/plain": [
       "array([ 72, 102,  69])"
      ]
     },
     "execution_count": 169,
     "metadata": {},
     "output_type": "execute_result"
    }
   ],
   "source": [
    "# how to get the <0th> row \n",
    "ages[0]"
   ]
  },
  {
   "cell_type": "code",
   "execution_count": 171,
   "metadata": {},
   "outputs": [
    {
     "data": {
      "text/plain": [
       "array([[72],\n",
       "       [85],\n",
       "       [53],\n",
       "       [81],\n",
       "       [99],\n",
       "       [86],\n",
       "       [92],\n",
       "       [19],\n",
       "       [62],\n",
       "       [73],\n",
       "       [86],\n",
       "       [39],\n",
       "       [95],\n",
       "       [59],\n",
       "       [28],\n",
       "       [82],\n",
       "       [83],\n",
       "       [88],\n",
       "       [42],\n",
       "       [43],\n",
       "       [75],\n",
       "       [23],\n",
       "       [30],\n",
       "       [18],\n",
       "       [45],\n",
       "       [47],\n",
       "       [95],\n",
       "       [31],\n",
       "       [24],\n",
       "       [22],\n",
       "       [46],\n",
       "       [50],\n",
       "       [49],\n",
       "       [60],\n",
       "       [51],\n",
       "       [47],\n",
       "       [47],\n",
       "       [52],\n",
       "       [91],\n",
       "       [24],\n",
       "       [85],\n",
       "       [80],\n",
       "       [22],\n",
       "       [71],\n",
       "       [58],\n",
       "       [55],\n",
       "       [55],\n",
       "       [31],\n",
       "       [52],\n",
       "       [46],\n",
       "       [41],\n",
       "       [86],\n",
       "       [52],\n",
       "       [21],\n",
       "       [18],\n",
       "       [90],\n",
       "       [47],\n",
       "       [47],\n",
       "       [22],\n",
       "       [77],\n",
       "       [95],\n",
       "       [66],\n",
       "       [20],\n",
       "       [71],\n",
       "       [23],\n",
       "       [63],\n",
       "       [40],\n",
       "       [40],\n",
       "       [85],\n",
       "       [98],\n",
       "       [23],\n",
       "       [53],\n",
       "       [38],\n",
       "       [19],\n",
       "       [70],\n",
       "       [20],\n",
       "       [53],\n",
       "       [85],\n",
       "       [60],\n",
       "       [54],\n",
       "       [56],\n",
       "       [29],\n",
       "       [30],\n",
       "       [92],\n",
       "       [90],\n",
       "       [65],\n",
       "       [88],\n",
       "       [83],\n",
       "       [38],\n",
       "       [33],\n",
       "       [34],\n",
       "       [83],\n",
       "       [84],\n",
       "       [73],\n",
       "       [70],\n",
       "       [33],\n",
       "       [34],\n",
       "       [44],\n",
       "       [96],\n",
       "       [64]])"
      ]
     },
     "execution_count": 171,
     "metadata": {},
     "output_type": "execute_result"
    }
   ],
   "source": [
    "# how to get the column or <0th> axis/indice\n",
    "# https://stackoverflow.com/questions/4455076/how-to-access-the-ith-column-of-a-numpy-multidimensional-array\n",
    "ages[:,[0]]"
   ]
  },
  {
   "cell_type": "code",
   "execution_count": 177,
   "metadata": {},
   "outputs": [],
   "source": [
    "assert ages[0][0] == 72, 'This lookup is incorrect'"
   ]
  },
  {
   "cell_type": "code",
   "execution_count": null,
   "metadata": {},
   "outputs": [],
   "source": []
  }
 ],
 "metadata": {
  "kernelspec": {
   "display_name": "Python 3",
   "language": "python",
   "name": "python3"
  },
  "language_info": {
   "codemirror_mode": {
    "name": "ipython",
    "version": 3
   },
   "file_extension": ".py",
   "mimetype": "text/x-python",
   "name": "python",
   "nbconvert_exporter": "python",
   "pygments_lexer": "ipython3",
   "version": "3.8.5"
  }
 },
 "nbformat": 4,
 "nbformat_minor": 4
}
