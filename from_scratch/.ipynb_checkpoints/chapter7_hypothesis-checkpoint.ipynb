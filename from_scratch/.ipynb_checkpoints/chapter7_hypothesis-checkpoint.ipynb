{
 "cells": [
  {
   "cell_type": "code",
   "execution_count": 9,
   "metadata": {},
   "outputs": [],
   "source": [
    "import math\n",
    "from typing import Tuple"
   ]
  },
  {
   "cell_type": "code",
   "execution_count": 10,
   "metadata": {},
   "outputs": [],
   "source": [
    "def normal_approximation_to_binomial(n, p):\n",
    "    mu = p * n\n",
    "    sigma = math.sqrt(p * (1 -p) * n)\n",
    "    return mu, sigma"
   ]
  },
  {
   "cell_type": "code",
   "execution_count": 11,
   "metadata": {},
   "outputs": [],
   "source": [
    "def normal_cdf(x, mu=0, sigma=1)\n",
    "    return (1 + math.erf((x -mu) / math.sqrt(2) / sigma)) / 2"
   ]
  },
  {
   "cell_type": "code",
   "execution_count": 17,
   "metadata": {},
   "outputs": [],
   "source": [
    "normal_probability_below = normal_cdf\n",
    "# https://en.wikipedia.org/wiki/Cumulative_distribution_function\n",
    "# When the distribution of a dataset is normal\n",
    "# The probability the variable is below a given threshold, x\n",
    "# such as in a normal distribution of 0-10, the probability of given number 5 is 50%"
   ]
  },
  {
   "cell_type": "code",
   "execution_count": 13,
   "metadata": {},
   "outputs": [],
   "source": [
    "def normal_probability_above(lo, mu, sigma):\n",
    "    \"\"\"Just the opposite, the probability of a given number, above that number\"\"\"\n",
    "    return 1 - normal_cdf(lo, mu, sigma)"
   ]
  },
  {
   "cell_type": "code",
   "execution_count": 23,
   "metadata": {},
   "outputs": [],
   "source": [
    "# can also find probability between numbers\n",
    "# the probability that a given number is between lo and hi\n",
    "def normal_probability_between(lo, hi, mu, sigma):\n",
    "    return normal_cdf(hi, mu, sigma) - normal_cdf(lo, mu, sigma)"
   ]
  },
  {
   "cell_type": "code",
   "execution_count": 34,
   "metadata": {},
   "outputs": [
    {
     "data": {
      "text/plain": [
       "0.6826894921370859"
      ]
     },
     "execution_count": 34,
     "metadata": {},
     "output_type": "execute_result"
    }
   ],
   "source": [
    "normal_probability_between(-1, 1, 0, 1)\n",
    "# a single standard deviation\n",
    "# in a bell curve, the probability of 0 to -1 and 0 to 1 added together"
   ]
  },
  {
   "cell_type": "code",
   "execution_count": 28,
   "metadata": {},
   "outputs": [],
   "source": [
    "# or outside numbers\n",
    "# the probability that a given number is NOT between lo and hi\n",
    "def normal_probability_outside(lo, hi, mu, sigma):\n",
    "    return 1 - normal_probability_between(lo, hi, mu, sigma)"
   ]
  },
  {
   "cell_type": "code",
   "execution_count": 36,
   "metadata": {},
   "outputs": [
    {
     "data": {
      "text/plain": [
       "0.31731050786291415"
      ]
     },
     "execution_count": 36,
     "metadata": {},
     "output_type": "execute_result"
    }
   ],
   "source": [
    "normal_probability_outside(-1, 1, 0, 1)\n",
    "# everything outside the single standard deviation in a bell curve\n",
    "# in a bell curve, the probability of 0 to -1 and 0 to 1 added together"
   ]
  },
  {
   "cell_type": "code",
   "execution_count": 38,
   "metadata": {},
   "outputs": [],
   "source": [
    "# have to use binary search i.e. split everything in half to search for what you want\n",
    "# repeatedly bisects intervals until it narrows in on a z that's close enough to the desired probability\n",
    "def inverse_normal_cdf(p, mu = 0, sigma = 1, tolerance = 0.00001):\n",
    "    if mu !=0 or sigma != 1:\n",
    "        return mu + sigma * inverse_normal_cdf(p, tolerance = tolerance)\n",
    "    low_z = -10.0                   # normal_cdf(-10) is (very close to) 0)\n",
    "    hi_z = 10.0                     # normal_cdf(10) is (very close to) 1)\n",
    "    while hi_z - low_z > tolerance: \n",
    "        mid_z = (low_z + hi_z) / 2  # consider the midpoint\n",
    "        mid_p = normal_cdf(mid_z)   # and the CDF's value there\n",
    "        if mid_p < p:\n",
    "            low_z = mid_z           # midpoint too low, search above it\n",
    "        else:\n",
    "            hi_z = mid_z            # midpoint too high, search below it\n",
    "    return mid_z"
   ]
  },
  {
   "cell_type": "code",
   "execution_count": 39,
   "metadata": {},
   "outputs": [],
   "source": [
    "def normal_upper_bound(probability, mu = 0, sigma=1):\n",
    "    \"\"\"Returns the z for which P(Z <= z) = probability\"\"\"\n",
    "    return inverse_normal_cdf(probability, mu, sigma)\n",
    "# for a given probability, mu, sigma, we what "
   ]
  },
  {
   "cell_type": "code",
   "execution_count": 58,
   "metadata": {},
   "outputs": [],
   "source": [
    "def normal_lower_bound(probability, mu=0, sigma=1):\n",
    "    \"\"\"Returns the z for which P(Z >= z) = probability\"\"\"\n",
    "    return inverse_normal_cdf(1 - probability, mu, sigma)"
   ]
  },
  {
   "cell_type": "code",
   "execution_count": 61,
   "metadata": {},
   "outputs": [],
   "source": [
    "def normal_two_sided_bounds(probability, mu, sigma):\n",
    "    \"\"\"returns the symmetric bounds that \n",
    "       contain the specified probability\"\"\"\n",
    "    tail_probability = (1 - probability) / 2\n",
    "    upper_bound = normal_lower_bound(tail_probability, mu, sigma)\n",
    "    lower_bound = normal_upper_bound(tail_probability, mu, sigma)\n",
    "    return lower_bound, upper_bound"
   ]
  },
  {
   "cell_type": "code",
   "execution_count": 70,
   "metadata": {},
   "outputs": [
    {
     "data": {
      "text/plain": [
       "(-0.4261493682861328, 0.4261493682861328)"
      ]
     },
     "execution_count": 70,
     "metadata": {},
     "output_type": "execute_result"
    }
   ],
   "source": [
    "normal_two_sided_bounds(.33, 0, 1)\n",
    "\n",
    "# with a <probability> probability, \n",
    "# a mean of the population of <0>, \n",
    "# and a standard deviation of <1>,\n",
    "# The lower and upper bounds will on average be \n",
    "# at those points on the normal distribution"
   ]
  },
  {
   "cell_type": "code",
   "execution_count": 72,
   "metadata": {},
   "outputs": [],
   "source": [
    "mu_0, sigma_0 = normal_approximation_to_binomial(1000, 0.5)"
   ]
  },
  {
   "cell_type": "code",
   "execution_count": 73,
   "metadata": {},
   "outputs": [
    {
     "data": {
      "text/plain": [
       "(500.0, 15.811388300841896)"
      ]
     },
     "execution_count": 73,
     "metadata": {},
     "output_type": "execute_result"
    }
   ],
   "source": [
    "mu_0, sigma_0"
   ]
  },
  {
   "cell_type": "code",
   "execution_count": 75,
   "metadata": {},
   "outputs": [],
   "source": [
    "lower_bound, upper_bound = normal_two_sided_bounds(0.95, mu_0, sigma_0)"
   ]
  },
  {
   "cell_type": "code",
   "execution_count": 76,
   "metadata": {},
   "outputs": [
    {
     "data": {
      "text/plain": [
       "(469.01026640487555, 530.9897335951244)"
      ]
     },
     "execution_count": 76,
     "metadata": {},
     "output_type": "execute_result"
    }
   ],
   "source": [
    "lower_bound, upper_bound"
   ]
  },
  {
   "cell_type": "markdown",
   "metadata": {},
   "source": [
    "* assuming that p really equals 0.5, rejecting the null hypothesis, \n",
    "* there is just a 5% chance we observed an X that lies outside this interval, \n",
    "* or, 19 times out of 20, this test will give the correct result\n",
    "* we are safe from type 1 errors, but what about type 2?\n",
    "* we also want to find the power of the test, not reject the null hypothesis even though it's false,"
   ]
  },
  {
   "cell_type": "code",
   "execution_count": 92,
   "metadata": {},
   "outputs": [
    {
     "data": {
      "text/plain": [
       "526.0073585242053"
      ]
     },
     "execution_count": 92,
     "metadata": {},
     "output_type": "execute_result"
    }
   ],
   "source": [
    "hi = normal_upper_bound(0.95, mu_0, sigma_0)\n",
    "hi"
   ]
  },
  {
   "cell_type": "code",
   "execution_count": 93,
   "metadata": {},
   "outputs": [
    {
     "data": {
      "text/plain": [
       "(550.0, 15.732132722552274)"
      ]
     },
     "execution_count": 93,
     "metadata": {},
     "output_type": "execute_result"
    }
   ],
   "source": [
    "mu_1, sigma_1 = normal_approximation_to_binomial(1000, 0.55)\n",
    "mu_1, sigma_1"
   ]
  },
  {
   "cell_type": "code",
   "execution_count": 94,
   "metadata": {},
   "outputs": [
    {
     "data": {
      "text/plain": [
       "0.06362051966928273"
      ]
     },
     "execution_count": 94,
     "metadata": {},
     "output_type": "execute_result"
    }
   ],
   "source": [
    "type_2_probability = normal_probability_below(hi, mu_1, sigma_1)\n",
    "type_2_probability"
   ]
  },
  {
   "cell_type": "code",
   "execution_count": 95,
   "metadata": {},
   "outputs": [
    {
     "data": {
      "text/plain": [
       "0.9363794803307173"
      ]
     },
     "execution_count": 95,
     "metadata": {},
     "output_type": "execute_result"
    }
   ],
   "source": [
    "power = 1 - type_2_probability\n",
    "power\n",
    "# the probability that the significance of the test is valid"
   ]
  },
  {
   "cell_type": "code",
   "execution_count": 96,
   "metadata": {},
   "outputs": [],
   "source": [
    "def two_sided_p_value(x, mu=0, sigma=1):\n",
    "    \"\"\"\n",
    "    How likely are we to see a value at least as extree as x\n",
    "    in either direction, if our values are from a given number?\n",
    "    \"\"\"\n",
    "    if x >= mu:\n",
    "        return 2 * normal_probability_above(x, mu, sigma)\n",
    "    else:\n",
    "        return 2 * normal_probability_below(x, mu, sigma)"
   ]
  },
  {
   "cell_type": "code",
   "execution_count": 99,
   "metadata": {},
   "outputs": [
    {
     "data": {
      "text/plain": [
       "0.010423777309360283"
      ]
     },
     "execution_count": 99,
     "metadata": {},
     "output_type": "execute_result"
    }
   ],
   "source": [
    "two_sided_p_value(540.5, mu_0, sigma_0)\n",
    "# very significant"
   ]
  },
  {
   "cell_type": "code",
   "execution_count": 100,
   "metadata": {},
   "outputs": [],
   "source": [
    "import random"
   ]
  },
  {
   "cell_type": "code",
   "execution_count": 115,
   "metadata": {},
   "outputs": [],
   "source": [
    "extreme_value_count = 0\n",
    "for _ in range(1000):\n",
    "    num_heads = sum(1 if random.random() < 0.5 else 0 # count number of heads\n",
    "                   for _ in range(1000))              # in 1000 flips\n",
    "    if num_heads >=  530 or num_heads <= 470:         # and count how often the \n",
    "        extreme_value_count += 1                      # num is 'extreme'"
   ]
  },
  {
   "cell_type": "code",
   "execution_count": 121,
   "metadata": {},
   "outputs": [
    {
     "name": "stdout",
     "output_type": "stream",
     "text": [
      "60\n"
     ]
    }
   ],
   "source": [
    "assert 59 < extreme_value_count < 65, f\"{extreme_value_count}\"\n",
    "print(extreme_value_count)"
   ]
  },
  {
   "cell_type": "code",
   "execution_count": 124,
   "metadata": {},
   "outputs": [
    {
     "data": {
      "text/plain": [
       "0.0061967733539318665"
      ]
     },
     "execution_count": 124,
     "metadata": {},
     "output_type": "execute_result"
    }
   ],
   "source": [
    "math.sqrt(p * (1 - p) /1000)"
   ]
  },
  {
   "cell_type": "code",
   "execution_count": 130,
   "metadata": {},
   "outputs": [
    {
     "data": {
      "text/plain": [
       "(0.4940490278129096, 0.5559509721870904)"
      ]
     },
     "execution_count": 130,
     "metadata": {},
     "output_type": "execute_result"
    }
   ],
   "source": [
    "# confidence intervals\n",
    "p_hat = 525 / 1000\n",
    "mu = p_hat\n",
    "sigma = math.sqrt(p_hat * (1 - p_hat) / 1000)\n",
    "normal_two_sided_bounds(0.95, mu, sigma)\n",
    "\n",
    "# We're 95% confident that this interval contains the true parameter p\n",
    "# which sounds about right since .5 is within that bounds \n",
    "# and flipping a coin should have about a 50% chance of being heads or tails"
   ]
  },
  {
   "cell_type": "code",
   "execution_count": 148,
   "metadata": {},
   "outputs": [],
   "source": [
    "# p-hacking\n",
    "from typing import List\n",
    "def run_experiment() -> List[bool]:\n",
    "    return [random.random() < 0.5 for _ in range(10)]"
   ]
  },
  {
   "cell_type": "code",
   "execution_count": 149,
   "metadata": {},
   "outputs": [],
   "source": [
    "def reject_fairness(experiment: List[bool]) -> bool:\n",
    "    num_heads = len([flip for flip in experiment if flip])\n",
    "    return num_heads < 469 or num_heads > 531"
   ]
  },
  {
   "cell_type": "code",
   "execution_count": 150,
   "metadata": {},
   "outputs": [],
   "source": [
    "random.seed(0)\n",
    "experiments = [run_experiment() for _ in range(10)]\n",
    "num_rejections = len([experiment for experiment in experiments if reject_fairness(experiment)])"
   ]
  },
  {
   "cell_type": "code",
   "execution_count": 151,
   "metadata": {},
   "outputs": [
    {
     "data": {
      "text/plain": [
       "[[False, False, True, True, False, True, False, True, True, False],\n",
       " [False, False, True, False, False, True, False, False, False, False],\n",
       " [True, False, False, False, True, True, True, False, False, False],\n",
       " [True, False, True, False, False, True, False, True, False, False],\n",
       " [True, True, False, True, True, False, True, False, True, False],\n",
       " [False, True, True, True, False, False, True, False, False, False],\n",
       " [False, False, False, False, False, True, False, True, False, True],\n",
       " [True, True, False, False, True, True, False, False, False, False],\n",
       " [False, False, False, True, False, True, False, False, False, False],\n",
       " [False, False, True, False, False, False, False, True, False, True]]"
      ]
     },
     "execution_count": 151,
     "metadata": {},
     "output_type": "execute_result"
    }
   ],
   "source": [
    "experiments"
   ]
  },
  {
   "cell_type": "code",
   "execution_count": 152,
   "metadata": {},
   "outputs": [
    {
     "data": {
      "text/plain": [
       "10"
      ]
     },
     "execution_count": 152,
     "metadata": {},
     "output_type": "execute_result"
    }
   ],
   "source": [
    "num_rejections"
   ]
  },
  {
   "cell_type": "code",
   "execution_count": null,
   "metadata": {},
   "outputs": [],
   "source": []
  }
 ],
 "metadata": {
  "kernelspec": {
   "display_name": "Python 3",
   "language": "python",
   "name": "python3"
  },
  "language_info": {
   "codemirror_mode": {
    "name": "ipython",
    "version": 3
   },
   "file_extension": ".py",
   "mimetype": "text/x-python",
   "name": "python",
   "nbconvert_exporter": "python",
   "pygments_lexer": "ipython3",
   "version": "3.8.5"
  }
 },
 "nbformat": 4,
 "nbformat_minor": 4
}
